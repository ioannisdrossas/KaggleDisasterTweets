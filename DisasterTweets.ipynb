{
 "cells": [
  {
   "cell_type": "code",
   "execution_count": null,
   "id": "initial_id",
   "metadata": {
    "collapsed": true
   },
   "outputs": [],
   "source": [
    "# Necessary imports\n",
    "import pandas as pd\n",
    "import nltk\n",
    "from nltk.corpus import stopwords\n",
    "import string\n",
    "import re\n",
    "from nltk.stem import WordNetLemmatizer\n",
    "from nltk.tokenize import word_tokenize\n",
    "from textblob import TextBlob\n",
    "from torch.utils.data import DataLoader, Dataset\n",
    "from transformers import AdamW\n",
    "from tqdm import tqdm\n",
    "import torch\n",
    "from transformers import BertTokenizer, BertForSequenceClassification\n",
    "import csv"
   ]
  },
  {
   "cell_type": "code",
   "execution_count": null,
   "outputs": [],
   "source": [
    "# Load data\n",
    "training_data = pd.read_csv(\"train.csv\")\n",
    "testing_data = pd.read_csv(\"test.csv\")\n",
    "\n",
    "\n",
    "# Remove irrelevant columns\n",
    "columns_to_remove = [\"keyword\", \"location\"]\n",
    "training_data = training_data.drop(columns_to_remove, axis=1)\n",
    "testing_data = testing_data.drop(columns_to_remove, axis=1)\n",
    "\n",
    "# Separate target column\n",
    "training_targets = training_data[\"target\"]\n",
    "training_data = training_data.drop(columns=[\"target\"], axis=1)"
   ],
   "metadata": {
    "collapsed": false
   },
   "id": "5ed506a061a13d9a"
  },
  {
   "cell_type": "code",
   "execution_count": null,
   "outputs": [],
   "source": [
    "# Convert text to lowercase\n",
    "training_data[\"text\"] = training_data[\"text\"].str.lower()\n",
    "testing_data[\"text\"] = testing_data[\"text\"].str.lower()"
   ],
   "metadata": {
    "collapsed": false
   },
   "id": "7117e2af059c726"
  },
  {
   "cell_type": "code",
   "execution_count": null,
   "outputs": [],
   "source": [
    "def remove_hashtags(text):\n",
    "    return re.sub(r'#\\w+', '', text)\n",
    "\n",
    "def remove_tags(text):\n",
    "    return re.sub(r'@\\w+', '', text)\n",
    "\n",
    "def remove_urls(text):\n",
    "    return re.sub(r'http\\S+|www\\S+|https\\S+', '', text, flags=re.MULTILINE)\n",
    "\n",
    "training_data['text'] = training_data['text'].apply(remove_hashtags).apply(remove_tags).apply(remove_urls)\n",
    "testing_data['text'] = testing_data['text'].apply(remove_hashtags).apply(remove_tags).apply(remove_urls)"
   ],
   "metadata": {
    "collapsed": false
   },
   "id": "aa34f0159c017947"
  },
  {
   "cell_type": "code",
   "execution_count": null,
   "outputs": [],
   "source": [
    "nltk.download('stopwords')\n",
    "stop_words = set(stopwords.words('english'))\n",
    "\n",
    "def remove_stopwords(text):\n",
    "    words = text.split()\n",
    "    filtered_words = [word for word in words if word.lower() not in stop_words]\n",
    "    return ' '.join(filtered_words)\n",
    "\n",
    "training_data['text'] = training_data['text'].apply(remove_stopwords)\n",
    "testing_data['text'] = testing_data['text'].apply(remove_stopwords)"
   ],
   "metadata": {
    "collapsed": false
   },
   "id": "c6bac6e8622c48c1"
  },
  {
   "cell_type": "code",
   "execution_count": null,
   "outputs": [],
   "source": [
    "def remove_punctuation(text):\n",
    "    translator = str.maketrans('', '', string.punctuation)\n",
    "    return text.translate(translator)\n",
    "\n",
    "training_data['text'] = training_data['text'].apply(remove_punctuation)\n",
    "testing_data['text'] = testing_data['text'].apply(remove_punctuation)"
   ],
   "metadata": {
    "collapsed": false
   },
   "id": "463ed1ad7611058f"
  },
  {
   "cell_type": "code",
   "execution_count": null,
   "outputs": [],
   "source": [
    "def correct_spelling(text):\n",
    "    return str(TextBlob(text).correct())\n",
    "\n",
    "for i in tqdm(range(len(training_data))):\n",
    "    text = training_data.at[i, 'text']\n",
    "    corrected_text = correct_spelling(text)\n",
    "    training_data.at[i, 'text'] = corrected_text\n",
    "\n",
    "for i in tqdm(range(len(testing_data))):\n",
    "    text = testing_data.at[i, 'text']\n",
    "    corrected_text = correct_spelling(text)\n",
    "    testing_data.at[i, 'text'] = corrected_text"
   ],
   "metadata": {
    "collapsed": false
   },
   "id": "b4d4dc65766e2b8a"
  },
  {
   "cell_type": "code",
   "execution_count": null,
   "outputs": [],
   "source": [
    "nltk.download('punkt')\n",
    "nltk.download('wordnet')\n",
    "nltk.download('omw-1.4')\n",
    "\n",
    "lemmatizer = WordNetLemmatizer()\n",
    "def lemmatize_text(text):\n",
    "    words = word_tokenize(text)\n",
    "    lemmatized_words = [lemmatizer.lemmatize(word) for word in words]\n",
    "    return ' '.join(lemmatized_words)\n",
    "\n",
    "training_data['text'] = training_data['text'].apply(lemmatize_text)\n",
    "testing_data['text'] = testing_data['text'].apply(lemmatize_text)"
   ],
   "metadata": {
    "collapsed": false
   },
   "id": "cbd1339e5ea9f3fd"
  },
  {
   "cell_type": "code",
   "execution_count": null,
   "outputs": [],
   "source": [
    "# Load pre-trained BERT model and tokenizer\n",
    "model_name = 'bert-base-uncased'\n",
    "tokenizer = BertTokenizer.from_pretrained(model_name)\n",
    "model = BertForSequenceClassification.from_pretrained(model_name, num_labels=2)"
   ],
   "metadata": {
    "collapsed": false
   },
   "id": "95c4f430760a7c04"
  },
  {
   "cell_type": "code",
   "execution_count": null,
   "outputs": [],
   "source": [
    "class DisasterDataset(Dataset):\n",
    "    def __init__(self, dataframe, tokenizer, max_length):\n",
    "        self.tokenizer = tokenizer\n",
    "        self.data = dataframe\n",
    "        self.max_length = max_length\n",
    "\n",
    "    def __len__(self):\n",
    "        return len(self.data)\n",
    "\n",
    "    def __getitem__(self, index):\n",
    "        text = self.data.iloc[index]['text']\n",
    "        label = self.data.iloc[index]['target']\n",
    "        inputs = self.tokenizer.encode_plus(\n",
    "            text,\n",
    "            add_special_tokens=True,\n",
    "            truncation=True,\n",
    "            max_length=self.max_length,\n",
    "            padding='max_length',\n",
    "            return_tensors='pt'\n",
    "        )\n",
    "        return {\n",
    "            'input_ids': inputs['input_ids'].squeeze(0),\n",
    "            'attention_mask': inputs['attention_mask'].squeeze(0),\n",
    "            'labels': torch.tensor(label, dtype=torch.long)\n",
    "        }\n",
    "\n",
    "max_length = 128  \n",
    "train_dataset = DisasterDataset(pd.concat([training_data, training_targets], axis=1), tokenizer, max_length)\n",
    "train_loader = DataLoader(train_dataset, batch_size=16, shuffle=True)"
   ],
   "metadata": {
    "collapsed": false
   },
   "id": "84e801d7831512ba"
  },
  {
   "cell_type": "code",
   "execution_count": null,
   "outputs": [],
   "source": [
    "device = torch.device('cuda' if torch.cuda.is_available() else 'cpu')\n",
    "model.to(device)\n",
    "\n",
    "optimizer = AdamW(model.parameters(), lr=2e-5)\n",
    "\n",
    "num_epochs = 3 \n",
    "for epoch in range(num_epochs):\n",
    "    model.train()\n",
    "    total_loss = 0\n",
    "    for batch in tqdm(train_loader, desc=f'Epoch {epoch + 1}/{num_epochs}'):\n",
    "        input_ids = batch['input_ids'].to(device)\n",
    "        attention_mask = batch['attention_mask'].to(device)\n",
    "        labels = batch['labels'].to(device)\n",
    "\n",
    "        optimizer.zero_grad()\n",
    "        outputs = model(input_ids, attention_mask=attention_mask, labels=labels)\n",
    "        loss = outputs.loss\n",
    "        total_loss += loss.item()\n",
    "\n",
    "        loss.backward()\n",
    "        optimizer.step()\n",
    "\n",
    "    print(f'Epoch {epoch + 1}/{num_epochs}, Average Training Loss: {total_loss / len(train_loader)}')\n",
    "\n",
    "# Save the fine-tuned model\n",
    "model.save_pretrained('./fine_tuned_bert_model')"
   ],
   "metadata": {
    "collapsed": false
   },
   "id": "1f20607ccd09cf39"
  },
  {
   "cell_type": "code",
   "execution_count": null,
   "outputs": [],
   "source": [
    "# Load the fine-tuned model and tokenizer\n",
    "def predict(text, tokenizer, model, device, max_length=128):\n",
    "    inputs = tokenizer.encode_plus(\n",
    "        text,\n",
    "        add_special_tokens=True,\n",
    "        truncation=True,\n",
    "        max_length=max_length,\n",
    "        padding='max_length',\n",
    "        return_tensors='pt'\n",
    "    )\n",
    "    input_ids = inputs['input_ids'].to(device)\n",
    "    attention_mask = inputs['attention_mask'].to(device)\n",
    "\n",
    "    model.eval()\n",
    "    with torch.no_grad():\n",
    "        outputs = model(input_ids, attention_mask=attention_mask)\n",
    "        logits = outputs.logits\n",
    "        predicted_label = torch.argmax(logits, dim=1).cpu().item()\n",
    "\n",
    "    return predicted_label\n",
    "\n",
    "\n",
    "labels = []\n",
    "for index, row in tqdm(testing_data.iterrows(), total=testing_data.shape[0], desc=\"Processing rows\"):\n",
    "    text = row['text']\n",
    "    label = predict(text, tokenizer, model, device)\n",
    "    labels.append(label)\n",
    "\n",
    "# Store the results back in the DataFrame\n",
    "testing_data['label'] = labels\n",
    "\n",
    "print(testing_data)"
   ],
   "metadata": {
    "collapsed": false
   },
   "id": "511a6ce264ae69da"
  },
  {
   "cell_type": "code",
   "execution_count": null,
   "outputs": [],
   "source": [
    "filename = 'my_predictions.csv'\n",
    "\n",
    "predictions_list = testing_data['label'].tolist()\n",
    "index_list = testing_data['id'].tolist()\n",
    "\n",
    "with open(filename, 'w', newline='') as csvfile:\n",
    "    csvwriter = csv.writer(csvfile)\n",
    "    \n",
    "    # Write header row\n",
    "    csvwriter.writerow([\"id\", \"target\"])\n",
    "    \n",
    "    # Write data rows\n",
    "    for index in range(3263):\n",
    "        id = index_list[index]\n",
    "        prediction = predictions_list[index]\n",
    "        csvwriter.writerow([id, prediction])"
   ],
   "metadata": {
    "collapsed": false
   },
   "id": "5ee87f991f125051"
  }
 ],
 "metadata": {
  "kernelspec": {
   "display_name": "Python 3",
   "language": "python",
   "name": "python3"
  },
  "language_info": {
   "codemirror_mode": {
    "name": "ipython",
    "version": 2
   },
   "file_extension": ".py",
   "mimetype": "text/x-python",
   "name": "python",
   "nbconvert_exporter": "python",
   "pygments_lexer": "ipython2",
   "version": "2.7.6"
  }
 },
 "nbformat": 4,
 "nbformat_minor": 5
}
